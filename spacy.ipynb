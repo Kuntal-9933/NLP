{
  "nbformat": 4,
  "nbformat_minor": 0,
  "metadata": {
    "colab": {
      "provenance": [],
      "authorship_tag": "ABX9TyOfXRgmUeB+sMH9/6aRmITN"
    },
    "kernelspec": {
      "name": "python3",
      "display_name": "Python 3"
    },
    "language_info": {
      "name": "python"
    }
  },
  "cells": [
    {
      "cell_type": "code",
      "execution_count": 35,
      "metadata": {
        "id": "uZYCHuIG3e2i"
      },
      "outputs": [],
      "source": [
        "import spacy\n",
        "nlp=spacy.load('en_core_web_sm')"
      ]
    },
    {
      "cell_type": "code",
      "source": [
        "doc=nlp(\"Hi my name is kuntal.\")"
      ],
      "metadata": {
        "id": "5bWCrK-C35ZW"
      },
      "execution_count": 36,
      "outputs": []
    },
    {
      "cell_type": "code",
      "source": [
        "nlp.pipe_names"
      ],
      "metadata": {
        "colab": {
          "base_uri": "https://localhost:8080/"
        },
        "id": "xrec5bIR-3jf",
        "outputId": "604a1561-8a80-4023-e268-30a48bcf3790"
      },
      "execution_count": 37,
      "outputs": [
        {
          "output_type": "execute_result",
          "data": {
            "text/plain": [
              "['tok2vec', 'tagger', 'parser', 'attribute_ruler', 'lemmatizer', 'ner']"
            ]
          },
          "metadata": {},
          "execution_count": 37
        }
      ]
    },
    {
      "cell_type": "code",
      "source": [
        "type(doc)"
      ],
      "metadata": {
        "colab": {
          "base_uri": "https://localhost:8080/"
        },
        "id": "Z15owFvx-s6S",
        "outputId": "e311941e-5f2a-4914-e61c-d2a7d1236d24"
      },
      "execution_count": 38,
      "outputs": [
        {
          "output_type": "execute_result",
          "data": {
            "text/plain": [
              "spacy.tokens.doc.Doc"
            ]
          },
          "metadata": {},
          "execution_count": 38
        }
      ]
    },
    {
      "cell_type": "markdown",
      "source": [
        "### tokenizing"
      ],
      "metadata": {
        "id": "OkLFd-OfLFuk"
      }
    },
    {
      "cell_type": "code",
      "source": [
        "for token in doc:\n",
        "  print(token.text)"
      ],
      "metadata": {
        "colab": {
          "base_uri": "https://localhost:8080/"
        },
        "id": "sPcC-cHKBvLW",
        "outputId": "b68da8b7-80fc-4bee-f08c-f252e64fcd57"
      },
      "execution_count": 39,
      "outputs": [
        {
          "output_type": "stream",
          "name": "stdout",
          "text": [
            "Hi\n",
            "my\n",
            "name\n",
            "is\n",
            "kuntal\n",
            ".\n"
          ]
        }
      ]
    },
    {
      "cell_type": "markdown",
      "source": [
        "### pos_tagging"
      ],
      "metadata": {
        "id": "GXQkvDUXLIGT"
      }
    },
    {
      "cell_type": "code",
      "source": [
        "[print(token.text,\"--->\",token.pos_) for token in doc]"
      ],
      "metadata": {
        "colab": {
          "base_uri": "https://localhost:8080/"
        },
        "id": "-vJlasEJB4nd",
        "outputId": "ab723f19-3c69-4dd1-dada-893c5291f937"
      },
      "execution_count": 40,
      "outputs": [
        {
          "output_type": "stream",
          "name": "stdout",
          "text": [
            "Hi ---> INTJ\n",
            "my ---> PRON\n",
            "name ---> NOUN\n",
            "is ---> AUX\n",
            "kuntal ---> NOUN\n",
            ". ---> PUNCT\n"
          ]
        },
        {
          "output_type": "execute_result",
          "data": {
            "text/plain": [
              "[None, None, None, None, None, None]"
            ]
          },
          "metadata": {},
          "execution_count": 40
        }
      ]
    },
    {
      "cell_type": "code",
      "source": [
        "spacy.explain(\"INTJ\")"
      ],
      "metadata": {
        "colab": {
          "base_uri": "https://localhost:8080/",
          "height": 35
        },
        "id": "EJXUccI6LcWu",
        "outputId": "3d0ae70d-3a44-4bec-e7c5-0ef7d23dd227"
      },
      "execution_count": 41,
      "outputs": [
        {
          "output_type": "execute_result",
          "data": {
            "text/plain": [
              "'interjection'"
            ],
            "application/vnd.google.colaboratory.intrinsic+json": {
              "type": "string"
            }
          },
          "metadata": {},
          "execution_count": 41
        }
      ]
    },
    {
      "cell_type": "markdown",
      "source": [
        "Sentence Identification"
      ],
      "metadata": {
        "id": "AiGxI7sbN56y"
      }
    },
    {
      "cell_type": "code",
      "source": [
        "about_text = (\n",
        "     \"Gus Proto is a Python developer currently\"\n",
        "\" working for a London-based Fintech\"\n",
        "     \" company. He is interested in learning\"\n",
        "     \" Natural Language Processing.\" )\n",
        "about_doc = nlp(about_text)\n",
        "sentences = list(about_doc.sents)\n",
        "len(sentences)\n",
        "for sentence in sentences:\n",
        "  print(f\"{sentence[:5]}...\")\n"
      ],
      "metadata": {
        "colab": {
          "base_uri": "https://localhost:8080/"
        },
        "id": "Wf_1fnLwLtAA",
        "outputId": "d7c34b0a-68b8-48c8-95ce-1ceb06e360c6"
      },
      "execution_count": 42,
      "outputs": [
        {
          "output_type": "stream",
          "name": "stdout",
          "text": [
            "Gus Proto is a Python...\n",
            "He is interested in learning...\n"
          ]
        }
      ]
    },
    {
      "cell_type": "code",
      "source": [
        "print(sentences)"
      ],
      "metadata": {
        "colab": {
          "base_uri": "https://localhost:8080/"
        },
        "id": "6zYj-f20NyxI",
        "outputId": "e732c863-0a80-4f29-86c4-aedb7b90b150"
      },
      "execution_count": 43,
      "outputs": [
        {
          "output_type": "stream",
          "name": "stdout",
          "text": [
            "[Gus Proto is a Python developer currently working for a London-based Fintech company., He is interested in learning Natural Language Processing.]\n"
          ]
        }
      ]
    },
    {
      "cell_type": "code",
      "source": [
        "for token in about_doc:\n",
        "  print(str(token)+\"         \"+str(token.is_alpha)+\"    \"+str(token.is_stop)+\"    \"+str(token.like_num)+\"    \"+str(token.is_title))\n"
      ],
      "metadata": {
        "colab": {
          "base_uri": "https://localhost:8080/"
        },
        "id": "B8KU7DXIN0Pq",
        "outputId": "0e905e12-bf9e-42ab-f19e-2c5e6dbdcc68"
      },
      "execution_count": 44,
      "outputs": [
        {
          "output_type": "stream",
          "name": "stdout",
          "text": [
            "Gus         True    False    False    True\n",
            "Proto         True    False    False    True\n",
            "is         True    True    False    False\n",
            "a         True    True    False    False\n",
            "Python         True    False    False    True\n",
            "developer         True    False    False    False\n",
            "currently         True    False    False    False\n",
            "working         True    False    False    False\n",
            "for         True    True    False    False\n",
            "a         True    True    False    False\n",
            "London         True    False    False    True\n",
            "-         False    False    False    False\n",
            "based         True    False    False    False\n",
            "Fintech         True    False    False    True\n",
            "company         True    False    False    False\n",
            ".         False    False    False    False\n",
            "He         True    True    False    True\n",
            "is         True    True    False    False\n",
            "interested         True    False    False    False\n",
            "in         True    True    False    False\n",
            "learning         True    False    False    False\n",
            "Natural         True    False    False    True\n",
            "Language         True    False    False    True\n",
            "Processing         True    False    False    True\n",
            ".         False    False    False    False\n"
          ]
        }
      ]
    },
    {
      "cell_type": "markdown",
      "source": [
        "### Excersie"
      ],
      "metadata": {
        "id": "hpKgfsubWnXF"
      }
    },
    {
      "cell_type": "code",
      "source": [
        "text='''\n",
        "Look for data to help you address the question. Governments are good\n",
        "sources because data from public research is often freely available. Good\n",
        "places to start include http://www.data.gov/, and http://www.science.gov/, and in the United Kingdom, http://data.gov.uk/.\n",
        "Two of my favorite data sets are the General Social Survey at http://www3.norc.org/gss+website/, \n",
        "and the European Social Survey at http://www.europeansocialsurvey.org/.\n",
        "'''\n",
        "\n",
        "#you are given a paragraph from this book and you want to grab all urls from this paragraph using spacy"
      ],
      "metadata": {
        "id": "ZVnKmd-WQI92"
      },
      "execution_count": 45,
      "outputs": []
    },
    {
      "cell_type": "code",
      "source": [
        "doc=nlp(text)\n",
        "url=[]\n",
        "for i in doc:\n",
        "  if(i.like_url==True):\n",
        "    url.append(i)\n",
        "url\n"
      ],
      "metadata": {
        "colab": {
          "base_uri": "https://localhost:8080/"
        },
        "id": "E0oxQwSoUHt2",
        "outputId": "dcd00cbc-6b3a-44d8-9446-04adcb6e41da"
      },
      "execution_count": 46,
      "outputs": [
        {
          "output_type": "execute_result",
          "data": {
            "text/plain": [
              "[http://www.data.gov/,\n",
              " http://www.science.gov/,\n",
              " http://data.gov.uk/.,\n",
              " http://www3.norc.org/gss+website/,\n",
              " http://www.europeansocialsurvey.org/.]"
            ]
          },
          "metadata": {},
          "execution_count": 46
        }
      ]
    },
    {
      "cell_type": "code",
      "source": [
        "transactions = \"Tony gave two $ to Peter, Bruce gave 500 € to Steve\"\n",
        "\n",
        "# Extract all money transaction from below sentence along with currency. Output should be, two $  , 500 €"
      ],
      "metadata": {
        "id": "IxNcnOjvUcou"
      },
      "execution_count": 47,
      "outputs": []
    },
    {
      "cell_type": "code",
      "source": [
        "doc=nlp(transactions)\n",
        "for i in range(len(doc)):\n",
        "  if doc[i].like_num and doc[i+1].is_currency:\n",
        "    print(str(doc[i])+\" \"+str(doc[i+1]))"
      ],
      "metadata": {
        "colab": {
          "base_uri": "https://localhost:8080/"
        },
        "id": "0vJOfUbCVkov",
        "outputId": "edd8362b-8b89-4a49-a9fe-909c38abcd16"
      },
      "execution_count": 48,
      "outputs": [
        {
          "output_type": "stream",
          "name": "stdout",
          "text": [
            "two $\n",
            "500 €\n"
          ]
        }
      ]
    },
    {
      "cell_type": "markdown",
      "source": [
        "creating a blank pipeline"
      ],
      "metadata": {
        "id": "KnnUV3JbdoMr"
      }
    },
    {
      "cell_type": "code",
      "source": [
        "nlp_blank=spacy.blank('en')\n",
        "nlp_blank.pipe_names"
      ],
      "metadata": {
        "id": "FNChbNGdV3RT",
        "colab": {
          "base_uri": "https://localhost:8080/"
        },
        "outputId": "76864e2c-e267-4875-b4c2-b3aa16ca9622"
      },
      "execution_count": 49,
      "outputs": [
        {
          "output_type": "execute_result",
          "data": {
            "text/plain": [
              "[]"
            ]
          },
          "metadata": {},
          "execution_count": 49
        }
      ]
    },
    {
      "cell_type": "markdown",
      "source": [
        "part of speech tagging and lemmitization"
      ],
      "metadata": {
        "id": "cutwuraJi3kE"
      }
    },
    {
      "cell_type": "code",
      "source": [
        "text = '''Ravi and Raju are the best friends from school days.They wanted to go for a world tour and \n",
        "visit famous cities like Paris, London, Dubai, Rome etc and also they called their another friend Mohan to take part of this world tour.\n",
        "They started their journey from Hyderabad and spent next 3 months travelling all the wonderful cities in the world and cherish a happy moments!'''\n",
        "\n",
        "document=nlp(text)\n",
        "\n",
        "for token in document:\n",
        "  print(str(token.text)+\" | \"+str(spacy.explain(token.pos_))+\" | \"+str(token.lemma_))"
      ],
      "metadata": {
        "colab": {
          "base_uri": "https://localhost:8080/"
        },
        "id": "GxtLoyytd44f",
        "outputId": "89df6dc3-ae99-44a3-f644-216aee6ff535"
      },
      "execution_count": 50,
      "outputs": [
        {
          "output_type": "stream",
          "name": "stdout",
          "text": [
            "Ravi | noun | ravi\n",
            "and | coordinating conjunction | and\n",
            "Raju | proper noun | Raju\n",
            "are | auxiliary | be\n",
            "the | determiner | the\n",
            "best | adjective | good\n",
            "friends | noun | friend\n",
            "from | adposition | from\n",
            "school | noun | school\n",
            "days | noun | day\n",
            ". | punctuation | .\n",
            "They | pronoun | they\n",
            "wanted | verb | want\n",
            "to | particle | to\n",
            "go | verb | go\n",
            "for | adposition | for\n",
            "a | determiner | a\n",
            "world | noun | world\n",
            "tour | noun | tour\n",
            "and | coordinating conjunction | and\n",
            "\n",
            " | space | \n",
            "\n",
            "visit | verb | visit\n",
            "famous | adjective | famous\n",
            "cities | noun | city\n",
            "like | adposition | like\n",
            "Paris | proper noun | Paris\n",
            ", | punctuation | ,\n",
            "London | proper noun | London\n",
            ", | punctuation | ,\n",
            "Dubai | proper noun | Dubai\n",
            ", | punctuation | ,\n",
            "Rome | proper noun | Rome\n",
            "etc | other | etc\n",
            "and | coordinating conjunction | and\n",
            "also | adverb | also\n",
            "they | pronoun | they\n",
            "called | verb | call\n",
            "their | pronoun | their\n",
            "another | determiner | another\n",
            "friend | noun | friend\n",
            "Mohan | proper noun | Mohan\n",
            "to | particle | to\n",
            "take | verb | take\n",
            "part | noun | part\n",
            "of | adposition | of\n",
            "this | determiner | this\n",
            "world | noun | world\n",
            "tour | noun | tour\n",
            ". | punctuation | .\n",
            "\n",
            " | space | \n",
            "\n",
            "They | pronoun | they\n",
            "started | verb | start\n",
            "their | pronoun | their\n",
            "journey | noun | journey\n",
            "from | adposition | from\n",
            "Hyderabad | proper noun | Hyderabad\n",
            "and | coordinating conjunction | and\n",
            "spent | verb | spend\n",
            "next | adjective | next\n",
            "3 | numeral | 3\n",
            "months | noun | month\n",
            "travelling | verb | travel\n",
            "all | determiner | all\n",
            "the | determiner | the\n",
            "wonderful | adjective | wonderful\n",
            "cities | noun | city\n",
            "in | adposition | in\n",
            "the | determiner | the\n",
            "world | noun | world\n",
            "and | coordinating conjunction | and\n",
            "cherish | verb | cherish\n",
            "a | determiner | a\n",
            "happy | adjective | happy\n",
            "moments | noun | moment\n",
            "! | punctuation | !\n"
          ]
        }
      ]
    },
    {
      "cell_type": "markdown",
      "source": [
        "Named Entity Recognization"
      ],
      "metadata": {
        "id": "BpAcRsLJix3y"
      }
    },
    {
      "cell_type": "code",
      "source": [
        "for i in doc.ents:\n",
        "  print(i.text+\" ----->> \"+i.label_)"
      ],
      "metadata": {
        "colab": {
          "base_uri": "https://localhost:8080/"
        },
        "id": "yQ3IdagufKQ6",
        "outputId": "aefa3b01-550f-450e-d3aa-017154894e2c"
      },
      "execution_count": 51,
      "outputs": [
        {
          "output_type": "stream",
          "name": "stdout",
          "text": [
            "Tony ----->> PERSON\n",
            "two $ ----->> MONEY\n",
            "Peter ----->> PERSON\n",
            "Bruce ----->> PERSON\n",
            "500 € ----->> MONEY\n"
          ]
        }
      ]
    },
    {
      "cell_type": "code",
      "source": [
        "from spacy import displacy\n",
        "displacy.render(doc, style=\"ent\")"
      ],
      "metadata": {
        "colab": {
          "base_uri": "https://localhost:8080/",
          "height": 140
        },
        "id": "qMrj2huwjaYQ",
        "outputId": "07a2357d-65b2-480e-95a8-e571bc6d5452"
      },
      "execution_count": 52,
      "outputs": [
        {
          "output_type": "execute_result",
          "data": {
            "text/plain": [
              "'<div class=\"entities\" style=\"line-height: 2.5; direction: ltr\">\\n<mark class=\"entity\" style=\"background: #aa9cfc; padding: 0.45em 0.6em; margin: 0 0.25em; line-height: 1; border-radius: 0.35em;\">\\n    Tony\\n    <span style=\"font-size: 0.8em; font-weight: bold; line-height: 1; border-radius: 0.35em; vertical-align: middle; margin-left: 0.5rem\">PERSON</span>\\n</mark>\\n gave \\n<mark class=\"entity\" style=\"background: #e4e7d2; padding: 0.45em 0.6em; margin: 0 0.25em; line-height: 1; border-radius: 0.35em;\">\\n    two $\\n    <span style=\"font-size: 0.8em; font-weight: bold; line-height: 1; border-radius: 0.35em; vertical-align: middle; margin-left: 0.5rem\">MONEY</span>\\n</mark>\\n to \\n<mark class=\"entity\" style=\"background: #aa9cfc; padding: 0.45em 0.6em; margin: 0 0.25em; line-height: 1; border-radius: 0.35em;\">\\n    Peter\\n    <span style=\"font-size: 0.8em; font-weight: bold; line-height: 1; border-radius: 0.35em; vertical-align: middle; margin-left: 0.5rem\">PERSON</span>\\n</mark>\\n, \\n<mark class=\"entity\" style=\"background: #aa9cfc; padding: 0.45em 0.6em; margin: 0 0.25em; line-height: 1; border-radius: 0.35em;\">\\n    Bruce\\n    <span style=\"font-size: 0.8em; font-weight: bold; line-height: 1; border-radius: 0.35em; vertical-align: middle; margin-left: 0.5rem\">PERSON</span>\\n</mark>\\n gave \\n<mark class=\"entity\" style=\"background: #e4e7d2; padding: 0.45em 0.6em; margin: 0 0.25em; line-height: 1; border-radius: 0.35em;\">\\n    500 €\\n    <span style=\"font-size: 0.8em; font-weight: bold; line-height: 1; border-radius: 0.35em; vertical-align: middle; margin-left: 0.5rem\">MONEY</span>\\n</mark>\\n to Steve</div>'"
            ],
            "application/vnd.google.colaboratory.intrinsic+json": {
              "type": "string"
            }
          },
          "metadata": {},
          "execution_count": 52
        }
      ]
    },
    {
      "cell_type": "markdown",
      "source": [
        "### spacy pipeline exercise code"
      ],
      "metadata": {
        "id": "DZbAbCBBR9zn"
      }
    },
    {
      "cell_type": "markdown",
      "source": [
        "Excersie: 1\n",
        "Get all the proper nouns from a given text in a list and also count how many of them.\n",
        "Proper Noun means a noun that names a particular person, place, or thing.\n",
        "\n",
        "\n"
      ],
      "metadata": {
        "id": "_MGJxRkoSNsr"
      }
    },
    {
      "cell_type": "code",
      "source": [
        "text = ''' Ravi and Raju are the best friends from school days.They wanted to go for a world tour and \n",
        "visit famous cities like Paris, London, Dubai, Rome etc and also they called their another friend Mohan to take part of this world tour.\n",
        "They started their journey from Hyderabad and spent next 3 months travelling all the wonderful cities in the world and cherish a happy moments! '''"
      ],
      "metadata": {
        "id": "tTILTjQwR9kn"
      },
      "execution_count": 53,
      "outputs": []
    },
    {
      "cell_type": "code",
      "source": [
        "doc=nlp(text)\n",
        "lst=[]\n",
        "for i in doc:\n",
        "  if(spacy.explain(i.pos_)=='proper noun'):\n",
        "    lst.append(i.text)\n",
        "print(f\"{lst} ====>>> {len(lst)}\")"
      ],
      "metadata": {
        "colab": {
          "base_uri": "https://localhost:8080/"
        },
        "id": "n0Yo-LLBSonA",
        "outputId": "60bb9548-a5d1-44dc-9452-0e57723a0e99"
      },
      "execution_count": 54,
      "outputs": [
        {
          "output_type": "stream",
          "name": "stdout",
          "text": [
            "['Ravi', 'Raju', 'Paris', 'London', 'Dubai', 'Rome', 'Mohan', 'Hyderabad'] ====>>> 8\n"
          ]
        }
      ]
    },
    {
      "cell_type": "markdown",
      "source": [
        "Excersie: 2\n",
        "Get all companies names from a given text and also the count of them.\n",
        "Hint: Use the spacy ner functionality"
      ],
      "metadata": {
        "id": "OYKF_np7UDvf"
      }
    },
    {
      "cell_type": "code",
      "source": [
        "text = ''' The Top 5 companies in USA are Tesla, Walmart, Amazon, Microsoft, Google and the top 5 companies in \n",
        "India are Infosys, Reliance, HDFC Bank, Hindustan Unilever and Bharti Airtel '''\n",
        "doc1=nlp(text)\n",
        "lst1=[]\n",
        "for i in doc1.ents:\n",
        "  if i.label_=='ORG':\n",
        "    lst1.append(i.text)\n",
        "print(f\"{lst1} ====>>> {len(lst1)}\")"
      ],
      "metadata": {
        "colab": {
          "base_uri": "https://localhost:8080/"
        },
        "id": "IK4jZcm3T33T",
        "outputId": "6ec87f7b-4756-4ed8-f4a5-bb97e056f127"
      },
      "execution_count": 55,
      "outputs": [
        {
          "output_type": "stream",
          "name": "stdout",
          "text": [
            "['Walmart', 'Amazon', 'Microsoft', 'Google', 'Infosys', 'Reliance', 'HDFC Bank', 'Hindustan Unilever'] ====>>> 8\n"
          ]
        }
      ]
    }
  ]
}